{
 "cells": [
  {
   "cell_type": "code",
   "execution_count": 19,
   "metadata": {},
   "outputs": [
    {
     "name": "stdout",
     "output_type": "stream",
     "text": [
      "w: [2.22951939 2.96727454]\n",
      "b: -13.0\n",
      "\n",
      "(0, 0) =>  0\n",
      "(5, 5) =>  1\n"
     ]
    }
   ],
   "source": [
    "import numpy as np\n",
    "import matplotlib.pyplot as plt\n",
    "\n",
    "\n",
    "#単純パーセプトロン\n",
    "class SimplePerceptron(object):\n",
    "  \n",
    "    def __init__(self, input_dim):\n",
    "        self.input_dim = input_dim\n",
    "        self.w = np.random.normal(size = (input_dim,))\n",
    "        self.b = 0\n",
    "        \n",
    "    def forward(self, x):\n",
    "        y = step(np.matmul(self.w, x) + self.b)\n",
    "        return y\n",
    "    \n",
    "    def compute_deltas(self, x, t):\n",
    "        y = self.forward(x)\n",
    "        delta = y - t\n",
    "        dw = delta * x\n",
    "        db = delta\n",
    "        return dw, db\n",
    "    \n",
    "def step(x):\n",
    "    return 1 * (x > 0)\n",
    "\n",
    "\n",
    "#main関数\n",
    "#def main():\n",
    "np.random.seed(123)\n",
    "\n",
    "#データの準備\n",
    "d = 2  #入力次元\n",
    "N = 20  #全データ数\n",
    "\n",
    "mean = 5\n",
    "\n",
    "x1 = np.random.randn(N // 2, d) + np.array([0, 0])\n",
    "x2 = np.random.randn(N // 2, d) + np.array([mean, mean])\n",
    "\n",
    "t1 = np.zeros(N // 2)\n",
    "t2 = np.ones(N // 2)\n",
    "\n",
    "x = np.concatenate((x1, x2), axis = 0)\n",
    "t = np.concatenate((t1, t2)) \n",
    "\n",
    "\n",
    "#モデルの構築\n",
    "model = SimplePerceptron(input_dim = d)\n",
    "\n",
    "\n",
    "#モデルの学習\n",
    "def compute_loss(dw, db):\n",
    "    return all(dw == 0) * (db == 0)\n",
    "\n",
    "def train_step(x, t):\n",
    "    dw, db = model.compute_deltas(x, t)\n",
    "    loss = compute_loss(dw, db)\n",
    "    model.w = model.w - dw\n",
    "    model.b = model.b - db\n",
    "    return loss\n",
    "\n",
    "counter = 0\n",
    "\n",
    "while True:\n",
    "    classified = True\n",
    "    for i in range(N):\n",
    "        loss = train_step(x[i], t[i])\n",
    "        classified *= loss\n",
    "    if classified:\n",
    "        break\n",
    "\n",
    "\n",
    "#モデルの評価\n",
    "print(\"w:\", model.w)\n",
    "print(\"b:\", model.b)\n",
    "\n",
    "print()\n",
    "\n",
    "print(\"(0, 0) => \", model.forward([0, 0]))\n",
    "print(\"(5, 5) => \", model.forward([5, 5]))\n",
    "\n",
    "    \n",
    "#if __name__ == \"__main__\":\n",
    " #   main()\n"
   ]
  },
  {
   "cell_type": "code",
   "execution_count": 16,
   "metadata": {},
   "outputs": [
    {
     "name": "stdout",
     "output_type": "stream",
     "text": [
      "[[-1.0856306   0.99734545]\n",
      " [ 0.2829785  -1.50629471]\n",
      " [-0.57860025  1.65143654]\n",
      " [-2.42667924 -0.42891263]\n",
      " [ 1.26593626 -0.8667404 ]\n",
      " [-0.67888615 -0.09470897]\n",
      " [ 1.49138963 -0.638902  ]\n",
      " [-0.44398196 -0.43435128]\n",
      " [ 2.20593008  2.18678609]\n",
      " [ 1.0040539   0.3861864 ]]\n",
      "\n",
      "[[5.73736858 6.49073203]\n",
      " [4.06416613 6.17582904]\n",
      " [3.74611933 4.3622485 ]\n",
      " [5.9071052  3.5713193 ]\n",
      " [4.85993128 4.1382451 ]\n",
      " [4.74438063 2.20141089]\n",
      " [3.2284669  4.30012277]\n",
      " [5.92746243 4.82636432]\n",
      " [5.00284592 5.68822271]\n",
      " [4.12046366 5.28362732]]\n",
      "\n",
      "[0. 0. 0. 0. 0. 0. 0. 0. 0. 0.]\n",
      "[1. 1. 1. 1. 1. 1. 1. 1. 1. 1.]\n"
     ]
    }
   ],
   "source": [
    "print(x1, end = \"\\n\\n\")\n",
    "print(x2, end = \"\\n\\n\")\n",
    "print(t1)\n",
    "print(t2)"
   ]
  },
  {
   "cell_type": "code",
   "execution_count": 18,
   "metadata": {},
   "outputs": [
    {
     "data": {
      "image/png": "[encoded data removed]",
      "text/plain": [
       "<Figure size 432x288 with 1 Axes>"
      ]
     },
     "metadata": {},
     "output_type": "display_data"
    }
   ],
   "source": [
    "for i in range(10):\n",
    "    plt.scatter(x1[i, 0], x1[i, 1], color = \"red\")\n",
    "    plt.scatter(x2[i, 0], x2[i, 1], color = \"blue\")\n",
    "X = np.arange(-3, 9)\n",
    "Y = - (model.w[0] / model.w[1] * X + model.b / model.w[1])\n",
    "plt.plot(X, Y, color = \"green\")\n",
    "plt.xlim([-3, 8])\n",
    "plt.ylim([-3, 8])\n",
    "plt.show()"
   ]
  },
  {
   "cell_type": "code",
   "execution_count": null,
   "metadata": {},
   "outputs": [],
   "source": []
  }
 ],
 "metadata": {
  "kernelspec": {
   "display_name": "Python 3",
   "language": "python",
   "name": "python3"
  },
  "language_info": {
   "codemirror_mode": {
    "name": "ipython",
    "version": 3
   },
   "file_extension": ".py",
   "mimetype": "text/x-python",
   "name": "python",
   "nbconvert_exporter": "python",
   "pygments_lexer": "ipython3",
   "version": "3.6.5"
  }
 },
 "nbformat": 4,
 "nbformat_minor": 2
}
