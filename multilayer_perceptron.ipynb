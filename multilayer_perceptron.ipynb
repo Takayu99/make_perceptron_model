{
 "cells": [
  {
   "cell_type": "code",
   "execution_count": 64,
   "metadata": {},
   "outputs": [
    {
     "name": "stdout",
     "output_type": "stream",
     "text": [
      "epoch: 1, loss: 2.940\n",
      "epoch: 101, loss: 2.696\n",
      "epoch: 201, loss: 2.572\n",
      "epoch: 301, loss: 2.403\n",
      "epoch: 401, loss: 2.250\n",
      "epoch: 501, loss: 2.110\n",
      "epoch: 601, loss: 1.849\n",
      "epoch: 701, loss: 1.274\n",
      "epoch: 801, loss: 0.738\n",
      "epoch: 901, loss: 0.470\n",
      "epoch: 1000, loss: 0.336\n",
      "[0 0] => 0.096\n",
      "[0 1] => 0.909\n",
      "[1 0] => 0.944\n",
      "[1 1] => 0.078\n"
     ]
    }
   ],
   "source": [
    "import numpy as np\n",
    "\n",
    "\n",
    "#多層パーセプトロン\n",
    "class MLP(object):\n",
    "    \n",
    "    def __init__(self, input_dim, hidden_dim, output_dim):\n",
    "        \n",
    "        self.l1 = Layer(input_dim = input_dim,\n",
    "                       output_dim = hidden_dim,\n",
    "                       activation = sigmoid,\n",
    "                       dactivation = dsigmoid)\n",
    "        \n",
    "        self.l2 = Layer(input_dim = hidden_dim,\n",
    "                       output_dim = output_dim,\n",
    "                       activation = sigmoid,\n",
    "                       dactivation = dsigmoid)\n",
    "        \n",
    "        self.layers = [self.l1, self.l2]\n",
    "        \n",
    "    def __call__(self, x):\n",
    "        return self.forward(x)\n",
    "    \n",
    "    def forward(self, x):\n",
    "        h = self.l1(x)\n",
    "        y = self.l2(h)\n",
    "        return y\n",
    "\n",
    "def sigmoid(x):\n",
    "    return 1 / (1 + np.exp(-x))\n",
    "\n",
    "def dsigmoid(x):\n",
    "    return sigmoid(x) * (1 - sigmoid(x))\n",
    "        \n",
    "        \n",
    "        \n",
    "class Layer(object):\n",
    "    #層間の結合\n",
    "    \n",
    "    def __init__(self, input_dim, output_dim, activation, dactivation):\n",
    "        self.W = np.random.normal(size = (input_dim, output_dim))\n",
    "        self.b = np.zeros(output_dim)\n",
    "        \n",
    "        self.activation = activation\n",
    "        self.dactivation = dactivation\n",
    "        \n",
    "    def __call__(self, x):\n",
    "        return self.forward(x)\n",
    "    \n",
    "    def forward(self, x):\n",
    "        self._input = x\n",
    "        self._pre_activation = np.matmul(x, self.W) + self.b\n",
    "        return self.activation(self._pre_activation)\n",
    "    \n",
    "    def backward(self, delta, W):\n",
    "        delta = self.dactivation(self._pre_activation) * np.matmul(delta, W.T)\n",
    "        return delta\n",
    "    \n",
    "    def compute_gradients(self, delta):\n",
    "        dW = np.matmul(self._input.T, delta)\n",
    "        db = np.matmul(np.ones(self._input.shape[0]), delta)\n",
    "        return dW, db\n",
    "    \n",
    "    \n",
    "    \n",
    "    \n",
    "#データの準備\n",
    "#XOR\n",
    "x = np.array([[0, 0], [0, 1], [1, 0], [1, 1]])\n",
    "t = np.array([[0], [1], [1], [0]])\n",
    "\n",
    "\n",
    "\n",
    "#モデルの構築\n",
    "np.random.seed(123)\n",
    "model = MLP(2, 2, 1)\n",
    "\n",
    "\n",
    "\n",
    "#モデルの学習\n",
    "def compute_loss(t, y):\n",
    "    return (-t * np.log(y) - (1 - t) * np.log(1 - y)).sum()\n",
    "\n",
    "def train_step(x, t):\n",
    "    y = model(x)\n",
    "    for i, layer in enumerate(model.layers[::-1]):\n",
    "        if i == 0:\n",
    "            delta = y - t\n",
    "        else:\n",
    "            delta = layer.backward(delta, W)\n",
    "        \n",
    "        dW, db = layer.compute_gradients(delta)\n",
    "        layer.W = layer.W - 0.1 * dW\n",
    "        layer.b = layer.b - 0.1 * db\n",
    "        \n",
    "        W = layer.W\n",
    "    \n",
    "    loss = compute_loss(t, y)\n",
    "    return loss\n",
    "\n",
    "\n",
    "epochs = 1000\n",
    "\n",
    "\n",
    "for epoch in range(epochs):\n",
    "    train_loss = train_step(x, t)\n",
    "    \n",
    "    if epoch % 100 == 0 or epoch == epochs - 1:\n",
    "        print(\"epoch: {}, loss: {:.3f}\".format(epoch+1, train_loss))\n",
    "        \n",
    "        \n",
    "        \n",
    "#モデルの評価\n",
    "for input in x:\n",
    "    print(\"{} => {:.3f}\".format(input, model(input)[0]))\n",
    "\n",
    "    \n",
    "    \n",
    "    "
   ]
  },
  {
   "cell_type": "code",
   "execution_count": 57,
   "metadata": {},
   "outputs": [
    {
     "name": "stdout",
     "output_type": "stream",
     "text": [
      "[[0 0]\n",
      " [0 1]\n",
      " [1 0]\n",
      " [1 1]]\n",
      "\n",
      "[[-4.42048635  5.55073125]\n",
      " [ 4.01363434 -5.62585416]]\n",
      "\n",
      "[-2.16209935 -3.35415386]\n",
      "\n",
      "[[6.27321307]\n",
      " [6.59263655]]\n",
      "\n",
      "[-3.11766916]\n",
      "\n"
     ]
    }
   ],
   "source": [
    "print(x, end = \"\\n\\n\")\n",
    "\n",
    "print(model.l1.W, end = \"\\n\\n\")\n",
    "\n",
    "print(model.l1.b, end = \"\\n\\n\")\n",
    "\n",
    "print(model.l2.W, end = \"\\n\\n\")\n",
    "\n",
    "print(model.l2.b, end = \"\\n\\n\")"
   ]
  },
  {
   "cell_type": "code",
   "execution_count": 63,
   "metadata": {},
   "outputs": [
    {
     "name": "stdout",
     "output_type": "stream",
     "text": [
      "[[0.09555042]\n",
      " [0.90930218]\n",
      " [0.94395859]\n",
      " [0.07840033]]\n"
     ]
    }
   ],
   "source": [
    "\n",
    "print(model(x))"
   ]
  },
  {
   "cell_type": "code",
   "execution_count": 65,
   "metadata": {},
   "outputs": [
    {
     "name": "stdout",
     "output_type": "stream",
     "text": [
      "[]\n"
     ]
    }
   ],
   "source": [
    "print(abc)"
   ]
  }
 ],
 "metadata": {
  "kernelspec": {
   "display_name": "Python 3",
   "language": "python",
   "name": "python3"
  },
  "language_info": {
   "codemirror_mode": {
    "name": "ipython",
    "version": 3
   },
   "file_extension": ".py",
   "mimetype": "text/x-python",
   "name": "python",
   "nbconvert_exporter": "python",
   "pygments_lexer": "ipython3",
   "version": "3.6.12"
  }
 },
 "nbformat": 4,
 "nbformat_minor": 4
}
