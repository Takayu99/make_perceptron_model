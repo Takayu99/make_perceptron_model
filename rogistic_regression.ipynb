{
 "cells": [
  {
   "cell_type": "code",
   "execution_count": 2,
   "metadata": {},
   "outputs": [
    {
     "name": "stdout",
     "output_type": "stream",
     "text": [
      "epoch: 1, loss+ 3.602\n",
      "epoch: 11, loss+ 1.937\n",
      "epoch: 21, loss+ 1.640\n",
      "epoch: 31, loss+ 1.451\n",
      "epoch: 41, loss+ 1.300\n",
      "epoch: 51, loss+ 1.175\n",
      "epoch: 61, loss+ 1.070\n",
      "epoch: 71, loss+ 0.981\n",
      "epoch: 81, loss+ 0.905\n",
      "epoch: 91, loss+ 0.839\n",
      "epoch: 100, loss+ 0.787\n",
      "[0 0] => 0.383\n",
      "[0 1] => 0.864\n",
      "[1 0] => 0.866\n",
      "[1 1] => 0.985\n"
     ]
    }
   ],
   "source": [
    "import numpy as np\n",
    "\n",
    "class LogisticRegression(object):\n",
    "    #ロジスティック回路\n",
    "    \n",
    "    def __init__(self, input_dim):\n",
    "        self.input_dim = input_dim\n",
    "        self.w = np.random.normal(size = (input_dim,))\n",
    "        self.b = 0.\n",
    "        \n",
    "    def __call__(self, x):\n",
    "        return self.forward(x)\n",
    "    \n",
    "    def forward(self, x):\n",
    "        return sigmoid(np.matmul(x, self.w) + self.b)\n",
    "    \n",
    "    def compute_gradients(self, x, t):\n",
    "        y = self.forward(x)\n",
    "        delta = y - t\n",
    "        dw = np.matmul(x.T, delta)\n",
    "        db = np.matmul(np.ones(x.shape[0]), delta)\n",
    "        return dw, db\n",
    "\n",
    "def sigmoid(x):\n",
    "    return 1 / (1 + np.exp(-x))\n",
    "\n",
    "\n",
    "#データの準備\n",
    "#OR\n",
    "x = np.array([[0, 0], [0, 1], [1, 0], [1, 1]])\n",
    "t = np.array([0, 1, 1, 1])\n",
    "\n",
    "\n",
    "#モデルの構築\n",
    "model = LogisticRegression(input_dim = 2)\n",
    "\n",
    "\n",
    "#モデルの学習\n",
    "def compute_loss(t, y):\n",
    "    return (-t * np.log(y) - (1 - t) * np.log(1 - y)).sum()\n",
    "\n",
    "def train_step(x, t):\n",
    "    dw, db = model.compute_gradients(x, t)\n",
    "    model.w = model.w - 0.1 * dw\n",
    "    model.b = model.b - 0.1 * db\n",
    "    loss = compute_loss(t, model(x))\n",
    "    return loss\n",
    "\n",
    "epochs = 100\n",
    "\n",
    "for epoch in range(epochs):\n",
    "    train_loss = train_step(x, t)\n",
    "    \n",
    "    if epoch % 10 == 0 or epoch == epochs - 1:\n",
    "        print(\"epoch: {}, loss+ {:.3f}\".format(\n",
    "        epoch+1,\n",
    "        train_loss\n",
    "        ))\n",
    "        \n",
    "#モデルの評価\n",
    "for input in x:\n",
    "    print(\"{} => {:.3f}\".format(input, model(input)))\n",
    "    "
   ]
  },
  {
   "cell_type": "code",
   "execution_count": 3,
   "metadata": {},
   "outputs": [
    {
     "name": "stdout",
     "output_type": "stream",
     "text": [
      "[2.34665156 2.32859212] -0.47770001180177646\n"
     ]
    }
   ],
   "source": [
    "print(model.w, model.b)"
   ]
  },
  {
   "cell_type": "code",
   "execution_count": 4,
   "metadata": {},
   "outputs": [
    {
     "data": {
      "text/plain": [
       "[<matplotlib.lines.Line2D at 0x25da4383f98>]"
      ]
     },
     "execution_count": 4,
     "metadata": {},
     "output_type": "execute_result"
    },
    {
     "data": {
      "image/png": "[encoded data removed]",
      "text/plain": [
       "<Figure size 432x288 with 1 Axes>"
      ]
     },
     "metadata": {
      "needs_background": "light"
     },
     "output_type": "display_data"
    }
   ],
   "source": [
    "import matplotlib.pyplot as plt\n",
    "\n",
    "for i, j in x:\n",
    "    plt.scatter(x[i], x[j], color = \"red\")\n",
    "plt.xlim([0, 2])\n",
    "plt.ylim([0, 2])\n",
    "\n",
    "X = np.arange(0, 2)\n",
    "Y = - (model.w[0] * X + model.b) / model.w[1] \n",
    "\n",
    "plt.plot(X, Y, color = \"green\")\n",
    "\n"
   ]
  },
  {
   "cell_type": "code",
   "execution_count": null,
   "metadata": {},
   "outputs": [],
   "source": []
  }
 ],
 "metadata": {
  "kernelspec": {
   "display_name": "Python 3",
   "language": "python",
   "name": "python3"
  },
  "language_info": {
   "codemirror_mode": {
    "name": "ipython",
    "version": 3
   },
   "file_extension": ".py",
   "mimetype": "text/x-python",
   "name": "python",
   "nbconvert_exporter": "python",
   "pygments_lexer": "ipython3",
   "version": "3.6.12"
  }
 },
 "nbformat": 4,
 "nbformat_minor": 2
}
