{
 "cells": [
  {
   "cell_type": "code",
   "execution_count": 26,
   "metadata": {},
   "outputs": [
    {
     "data": {
      "image/png": "[encoded data removed]",
      "text/plain": [
       "<Figure size 432x288 with 1 Axes>"
      ]
     },
     "metadata": {
      "needs_background": "light"
     },
     "output_type": "display_data"
    }
   ],
   "source": [
    "from sklearn import datasets\n",
    "import matplotlib.pyplot as plt\n",
    "import make_graph as g\n",
    "\n",
    "np.random.seed(123)\n",
    "N = 300\n",
    "x, t = datasets.make_moons(N, noise = 0.3)\n",
    "\n",
    "for i in range(N):\n",
    "    if t[i] == 1:\n",
    "        plt.scatter(x[i, 0], x[i, 1], color = \"red\", marker = \"o\")\n",
    "    else:\n",
    "        plt.scatter(x[i, 0], x[i, 1], color = \"blue\", marker = \"x\")\n",
    "plt.show()"
   ]
  },
  {
   "cell_type": "code",
   "execution_count": 25,
   "metadata": {},
   "outputs": [
    {
     "name": "stdout",
     "output_type": "stream",
     "text": [
      "epoch: 1, loss: 143.587\n",
      "epoch: 11, loss: 100.656\n",
      "epoch: 21, loss: 97.881\n",
      "epoch: 31, loss: 93.624\n",
      "epoch: 41, loss: 90.038\n",
      "epoch: 51, loss: 94.091\n",
      "epoch: 61, loss: 80.874\n",
      "epoch: 71, loss: 66.254\n",
      "epoch: 81, loss: 71.314\n",
      "epoch: 91, loss: 61.582\n",
      "epoch: 100, loss: 58.968\n",
      "acc.: 0.933\n"
     ]
    }
   ],
   "source": [
    "import numpy as np\n",
    "from sklearn import datasets\n",
    "from sklearn.utils import shuffle\n",
    "from sklearn.model_selection import train_test_split\n",
    "from sklearn.metrics import accuracy_score\n",
    "\n",
    "\n",
    "\n",
    "#多層パーセプトロン\n",
    "class MLP(object):\n",
    "    \n",
    "    def __init__(self, input_dim, hidden_dim, output_dim):\n",
    "        \n",
    "        self.l1 = Layer(input_dim = input_dim,\n",
    "                       output_dim = hidden_dim,\n",
    "                       activation = sigmoid,\n",
    "                       dactivation = dsigmoid)\n",
    "        \n",
    "        self.l2 = Layer(input_dim = hidden_dim,\n",
    "                       output_dim = output_dim,\n",
    "                       activation = sigmoid,\n",
    "                       dactivation = dsigmoid)\n",
    "        \n",
    "        self.layers = [self.l1, self.l2]\n",
    "        \n",
    "    def __call__(self, x):\n",
    "        return self.forward(x)\n",
    "    \n",
    "    def forward(self, x):\n",
    "        h = self.l1(x)\n",
    "        y = self.l2(h)\n",
    "        return y\n",
    "\n",
    "def sigmoid(x):\n",
    "    return 1 / (1 + np.exp(-x))\n",
    "\n",
    "def dsigmoid(x):\n",
    "    return sigmoid(x) * (1 - sigmoid(x))\n",
    "        \n",
    "        \n",
    "        \n",
    "class Layer(object):\n",
    "    #層間の結合\n",
    "    \n",
    "    def __init__(self, input_dim, output_dim, activation, dactivation):\n",
    "        self.W = np.random.normal(size = (input_dim, output_dim))\n",
    "        self.b = np.zeros(output_dim)\n",
    "        \n",
    "        self.activation = activation\n",
    "        self.dactivation = dactivation\n",
    "        \n",
    "    def __call__(self, x):\n",
    "        return self.forward(x)\n",
    "    \n",
    "    def forward(self, x):\n",
    "        self._input = x\n",
    "        self._pre_activation = np.matmul(x, self.W) + self.b\n",
    "        return self.activation(self._pre_activation)\n",
    "    \n",
    "    def backward(self, delta, W):\n",
    "        delta = self.dactivation(self._pre_activation) * np.matmul(delta, W.T)\n",
    "        return delta\n",
    "    \n",
    "    def compute_gradients(self, delta):\n",
    "        dW = np.matmul(self._input.T, delta)\n",
    "        db = np.matmul(np.ones(self._input.shape[0]), delta)\n",
    "        return dW, db\n",
    "    \n",
    "    \n",
    "    \n",
    "#データの準備\n",
    "np.random.seed(123)\n",
    "N = 300\n",
    "x, t = datasets.make_moons(N, noise = 0.3)\n",
    "t = t.reshape(N, 1)\n",
    "\n",
    "x_train, x_test, t_train, t_test = \\\n",
    "    train_test_split(x, t, test_size = 0.2)\n",
    "\n",
    "\n",
    "\n",
    "#モデルの構築\n",
    "model = MLP(2, 3, 1)\n",
    "\n",
    "\n",
    "\n",
    "#モデルの学習\n",
    "def compute_loss(t, y):\n",
    "    return (-t * np.log(y) - (1 - t) * np.log(1 - y)).sum()\n",
    "\n",
    "def train_step(x, t):\n",
    "    y = model(x)\n",
    "    for i, layer in enumerate(model.layers[::-1]):\n",
    "        if i == 0:\n",
    "            delta = y - t\n",
    "        else:\n",
    "            delta = layer.backward(delta, W)\n",
    "        \n",
    "        dW, db = layer.compute_gradients(delta)\n",
    "        layer.W = layer.W - 0.1 * dW\n",
    "        layer.b = layer.b - 0.1 * db\n",
    "        \n",
    "        W = layer.W\n",
    "    \n",
    "    loss = compute_loss(t, y)\n",
    "    return loss\n",
    "\n",
    "\n",
    "epochs = 100\n",
    "batch_size = 30\n",
    "n_batches = x_train.shape[0] // batch_size\n",
    "\n",
    "\n",
    "for epoch in range(epochs):\n",
    "    train_loss = 0.\n",
    "    x_, t_ = shuffle(x_train, t_train)\n",
    "    \n",
    "    for n_batch in range(n_batches):\n",
    "        start = n_batch * batch_size\n",
    "        end = start + batch_size\n",
    "        \n",
    "        train_loss += train_step(x_[start : end], t_[start : end])\n",
    "        \n",
    "    if epoch % 10 == 0 or epoch == epochs - 1:\n",
    "        print(\"epoch: {}, loss: {:.3f}\".format(epoch + 1, train_loss))\n",
    "        \n",
    "        \n",
    "\n",
    "#モデルの評価\n",
    "preds = model(x_test) > 0.5\n",
    "acc = accuracy_score(t_test, preds)\n",
    "print(\"acc.: {:.3f}\".format(acc))\n",
    "\n",
    "\n",
    "\n"
   ]
  },
  {
   "cell_type": "code",
   "execution_count": 1,
   "metadata": {},
   "outputs": [
    {
     "name": "stdout",
     "output_type": "stream",
     "text": [
      "<class 'object'>\n",
      "['__class__', '__delattr__', '__dir__', '__doc__', '__eq__', '__format__', '__ge__', '__getattribute__', '__gt__', '__hash__', '__init__', '__init_subclass__', '__le__', '__lt__', '__ne__', '__new__', '__reduce__', '__reduce_ex__', '__repr__', '__setattr__', '__sizeof__', '__str__', '__subclasshook__']\n"
     ]
    }
   ],
   "source": [
    "\n"
   ]
  },
  {
   "cell_type": "code",
   "execution_count": null,
   "metadata": {},
   "outputs": [],
   "source": []
  }
 ],
 "metadata": {
  "kernelspec": {
   "display_name": "Python 3",
   "language": "python",
   "name": "python3"
  },
  "language_info": {
   "codemirror_mode": {
    "name": "ipython",
    "version": 3
   },
   "file_extension": ".py",
   "mimetype": "text/x-python",
   "name": "python",
   "nbconvert_exporter": "python",
   "pygments_lexer": "ipython3",
   "version": "3.6.12"
  }
 },
 "nbformat": 4,
 "nbformat_minor": 4
}
